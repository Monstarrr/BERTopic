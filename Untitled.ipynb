{
 "cells": [
  {
   "cell_type": "code",
   "execution_count": 1,
   "metadata": {},
   "outputs": [],
   "source": [
    "import bertopic\n",
    "import numpy as np\n",
    "import pandas as pd\n",
    "from sklearn.feature_extraction.text import CountVectorizer"
   ]
  },
  {
   "cell_type": "code",
   "execution_count": 7,
   "metadata": {},
   "outputs": [],
   "source": [
    "corpus = ['this is the first document',\n",
    "          'this document is the second document',\n",
    "          'and this is the third one',\n",
    "          'and this is the third one',\n",
    "          'and this is the third one',\n",
    "          'is this the first document',\n",
    "          \"A new document about sports\",\n",
    "          \"Another document about sports\",\n",
    "          \"Something entirely different and about movies\"]\n",
    "\n",
    "documents = pd.DataFrame({\"Document\": corpus,\n",
    "                          \"ID\": range(len(corpus)),\n",
    "                          \"Topic\": [-1, 1, 0, 0, 0, 1, -1, 1, -1]})"
   ]
  },
  {
   "cell_type": "code",
   "execution_count": 8,
   "metadata": {},
   "outputs": [],
   "source": [
    "model = bertopic.BERTopic()\n",
    "documents_per_topic = documents.groupby(['Topic'], as_index=False).agg({'Document': ' '.join})\n",
    "matrix, words = model._c_tf_idf(documents_per_topic, m=len(documents))"
   ]
  },
  {
   "cell_type": "code",
   "execution_count": 11,
   "metadata": {},
   "outputs": [
    {
     "data": {
      "text/plain": [
       "(3, 7)"
      ]
     },
     "execution_count": 11,
     "metadata": {},
     "output_type": "execute_result"
    }
   ],
   "source": [
    "matrix.shape"
   ]
  },
  {
   "cell_type": "code",
   "execution_count": 6,
   "metadata": {},
   "outputs": [
    {
     "name": "stdout",
     "output_type": "stream",
     "text": [
      "Wall time: 4.77 ms\n"
     ]
    },
    {
     "data": {
      "text/plain": [
       "array([[0.43944492, 0.08109302, 0.43944492, 0.43944492, 0.        ,\n",
       "        0.        , 0.30081548],\n",
       "       [0.        , 0.30409883, 0.        , 0.        , 0.        ,\n",
       "        0.54930614, 0.        ],\n",
       "       [0.        , 0.20273255, 0.        , 0.        , 0.54930614,\n",
       "        0.        , 0.37601935]])"
      ]
     },
     "execution_count": 6,
     "metadata": {},
     "output_type": "execute_result"
    }
   ],
   "source": [
    "%%time\n",
    "m=len(documents)\n",
    "documents_per_topic = documents.groupby(['Topic'], as_index=False).agg({'Document': ' '.join})\n",
    "count = CountVectorizer(stop_words=\"english\").fit(documents_per_topic.Document)\n",
    "t = count.transform(documents_per_topic.Document).toarray()\n",
    "w = t.sum(axis=1)\n",
    "tf = np.divide(t.T, w)\n",
    "sum_t = t.sum(axis=0)\n",
    "idf = np.log(np.divide(m, sum_t)).reshape(-1, 1)\n",
    "tf_idf = np.multiply(tf, idf)\n",
    "tf_idf.T"
   ]
  },
  {
   "cell_type": "code",
   "execution_count": null,
   "metadata": {},
   "outputs": [],
   "source": []
  }
 ],
 "metadata": {
  "kernelspec": {
   "display_name": "Python 3",
   "language": "python",
   "name": "python3"
  },
  "language_info": {
   "codemirror_mode": {
    "name": "ipython",
    "version": 3
   },
   "file_extension": ".py",
   "mimetype": "text/x-python",
   "name": "python",
   "nbconvert_exporter": "python",
   "pygments_lexer": "ipython3",
   "version": "3.7.3"
  }
 },
 "nbformat": 4,
 "nbformat_minor": 4
}
